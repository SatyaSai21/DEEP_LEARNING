{
 "cells": [
  {
   "cell_type": "code",
   "execution_count": 1,
   "id": "cc54a09c",
   "metadata": {},
   "outputs": [],
   "source": [
    "import tensorflow as tf\n",
    "import seaborn as sns\n",
    "import numpy as np\n",
    "import pandas as pd\n",
    "import matplotlib.pyplot as plt"
   ]
  },
  {
   "cell_type": "code",
   "execution_count": 2,
   "id": "eb4f8ffb",
   "metadata": {},
   "outputs": [],
   "source": [
    "import keras"
   ]
  },
  {
   "cell_type": "code",
   "execution_count": 3,
   "id": "e2508b35",
   "metadata": {},
   "outputs": [],
   "source": [
    "data=pd.read_csv(\"C:\\\\Users\\\\Sathya Sai\\\\Downloads\\\\Churn_Modelling.csv\")"
   ]
  },
  {
   "cell_type": "code",
   "execution_count": 4,
   "id": "a1dd9d46",
   "metadata": {},
   "outputs": [
    {
     "data": {
      "text/html": [
       "<div>\n",
       "<style scoped>\n",
       "    .dataframe tbody tr th:only-of-type {\n",
       "        vertical-align: middle;\n",
       "    }\n",
       "\n",
       "    .dataframe tbody tr th {\n",
       "        vertical-align: top;\n",
       "    }\n",
       "\n",
       "    .dataframe thead th {\n",
       "        text-align: right;\n",
       "    }\n",
       "</style>\n",
       "<table border=\"1\" class=\"dataframe\">\n",
       "  <thead>\n",
       "    <tr style=\"text-align: right;\">\n",
       "      <th></th>\n",
       "      <th>RowNumber</th>\n",
       "      <th>CustomerId</th>\n",
       "      <th>Surname</th>\n",
       "      <th>CreditScore</th>\n",
       "      <th>Geography</th>\n",
       "      <th>Gender</th>\n",
       "      <th>Age</th>\n",
       "      <th>Tenure</th>\n",
       "      <th>Balance</th>\n",
       "      <th>NumOfProducts</th>\n",
       "      <th>HasCrCard</th>\n",
       "      <th>IsActiveMember</th>\n",
       "      <th>EstimatedSalary</th>\n",
       "      <th>Exited</th>\n",
       "    </tr>\n",
       "  </thead>\n",
       "  <tbody>\n",
       "    <tr>\n",
       "      <th>0</th>\n",
       "      <td>1</td>\n",
       "      <td>15634602</td>\n",
       "      <td>Hargrave</td>\n",
       "      <td>619</td>\n",
       "      <td>France</td>\n",
       "      <td>Female</td>\n",
       "      <td>42</td>\n",
       "      <td>2</td>\n",
       "      <td>0.00</td>\n",
       "      <td>1</td>\n",
       "      <td>1</td>\n",
       "      <td>1</td>\n",
       "      <td>101348.88</td>\n",
       "      <td>1</td>\n",
       "    </tr>\n",
       "    <tr>\n",
       "      <th>1</th>\n",
       "      <td>2</td>\n",
       "      <td>15647311</td>\n",
       "      <td>Hill</td>\n",
       "      <td>608</td>\n",
       "      <td>Spain</td>\n",
       "      <td>Female</td>\n",
       "      <td>41</td>\n",
       "      <td>1</td>\n",
       "      <td>83807.86</td>\n",
       "      <td>1</td>\n",
       "      <td>0</td>\n",
       "      <td>1</td>\n",
       "      <td>112542.58</td>\n",
       "      <td>0</td>\n",
       "    </tr>\n",
       "    <tr>\n",
       "      <th>2</th>\n",
       "      <td>3</td>\n",
       "      <td>15619304</td>\n",
       "      <td>Onio</td>\n",
       "      <td>502</td>\n",
       "      <td>France</td>\n",
       "      <td>Female</td>\n",
       "      <td>42</td>\n",
       "      <td>8</td>\n",
       "      <td>159660.80</td>\n",
       "      <td>3</td>\n",
       "      <td>1</td>\n",
       "      <td>0</td>\n",
       "      <td>113931.57</td>\n",
       "      <td>1</td>\n",
       "    </tr>\n",
       "    <tr>\n",
       "      <th>3</th>\n",
       "      <td>4</td>\n",
       "      <td>15701354</td>\n",
       "      <td>Boni</td>\n",
       "      <td>699</td>\n",
       "      <td>France</td>\n",
       "      <td>Female</td>\n",
       "      <td>39</td>\n",
       "      <td>1</td>\n",
       "      <td>0.00</td>\n",
       "      <td>2</td>\n",
       "      <td>0</td>\n",
       "      <td>0</td>\n",
       "      <td>93826.63</td>\n",
       "      <td>0</td>\n",
       "    </tr>\n",
       "    <tr>\n",
       "      <th>4</th>\n",
       "      <td>5</td>\n",
       "      <td>15737888</td>\n",
       "      <td>Mitchell</td>\n",
       "      <td>850</td>\n",
       "      <td>Spain</td>\n",
       "      <td>Female</td>\n",
       "      <td>43</td>\n",
       "      <td>2</td>\n",
       "      <td>125510.82</td>\n",
       "      <td>1</td>\n",
       "      <td>1</td>\n",
       "      <td>1</td>\n",
       "      <td>79084.10</td>\n",
       "      <td>0</td>\n",
       "    </tr>\n",
       "  </tbody>\n",
       "</table>\n",
       "</div>"
      ],
      "text/plain": [
       "   RowNumber  CustomerId   Surname  CreditScore Geography  Gender  Age  \\\n",
       "0          1    15634602  Hargrave          619    France  Female   42   \n",
       "1          2    15647311      Hill          608     Spain  Female   41   \n",
       "2          3    15619304      Onio          502    France  Female   42   \n",
       "3          4    15701354      Boni          699    France  Female   39   \n",
       "4          5    15737888  Mitchell          850     Spain  Female   43   \n",
       "\n",
       "   Tenure    Balance  NumOfProducts  HasCrCard  IsActiveMember  \\\n",
       "0       2       0.00              1          1               1   \n",
       "1       1   83807.86              1          0               1   \n",
       "2       8  159660.80              3          1               0   \n",
       "3       1       0.00              2          0               0   \n",
       "4       2  125510.82              1          1               1   \n",
       "\n",
       "   EstimatedSalary  Exited  \n",
       "0        101348.88       1  \n",
       "1        112542.58       0  \n",
       "2        113931.57       1  \n",
       "3         93826.63       0  \n",
       "4         79084.10       0  "
      ]
     },
     "execution_count": 4,
     "metadata": {},
     "output_type": "execute_result"
    }
   ],
   "source": [
    "data.head()"
   ]
  },
  {
   "cell_type": "code",
   "execution_count": 14,
   "id": "ea685285",
   "metadata": {},
   "outputs": [],
   "source": [
    "ans=pd.get_dummies(data[\"Geography\"],drop_first=True)"
   ]
  },
  {
   "cell_type": "code",
   "execution_count": 17,
   "id": "1adb5d26",
   "metadata": {},
   "outputs": [],
   "source": [
    "ans=pd.concat([ans,pd.get_dummies(data[\"Gender\"],drop_first=True)],axis=1)"
   ]
  },
  {
   "cell_type": "code",
   "execution_count": 18,
   "id": "bdaccdbb",
   "metadata": {},
   "outputs": [],
   "source": [
    "data.drop([\"RowNumber\",\"CustomerId\",\"Surname\"],axis=1,inplace=True)"
   ]
  },
  {
   "cell_type": "code",
   "execution_count": 24,
   "id": "f65ab6de",
   "metadata": {},
   "outputs": [],
   "source": [
    "data.drop([\"Geography\",\"Gender\"],axis=1,inplace=True)"
   ]
  },
  {
   "cell_type": "code",
   "execution_count": 19,
   "id": "78818c72",
   "metadata": {},
   "outputs": [],
   "source": [
    "data=pd.concat([data,ans],axis=1)"
   ]
  },
  {
   "cell_type": "code",
   "execution_count": 13,
   "id": "c238c45c",
   "metadata": {},
   "outputs": [],
   "source": [
    "from sklearn.compose import ColumnTransformer"
   ]
  },
  {
   "cell_type": "code",
   "execution_count": 37,
   "id": "4d7da725",
   "metadata": {},
   "outputs": [],
   "source": [
    "trans=ColumnTransformer([\n",
    "    (\"Scaling\",StandardScaler(),['CreditScore', 'Age', 'Tenure', 'Balance', 'NumOfProducts','EstimatedSalary'])\n",
    "],remainder='passthrough')"
   ]
  },
  {
   "cell_type": "code",
   "execution_count": 21,
   "id": "82614b61",
   "metadata": {},
   "outputs": [],
   "source": [
    "from sklearn.preprocessing import StandardScaler"
   ]
  },
  {
   "cell_type": "code",
   "execution_count": 25,
   "id": "78924294",
   "metadata": {},
   "outputs": [
    {
     "data": {
      "text/plain": [
       "Index(['CreditScore', 'Age', 'Tenure', 'Balance', 'NumOfProducts', 'HasCrCard',\n",
       "       'IsActiveMember', 'EstimatedSalary', 'Exited', 'Germany', 'Spain',\n",
       "       'Male'],\n",
       "      dtype='object')"
      ]
     },
     "execution_count": 25,
     "metadata": {},
     "output_type": "execute_result"
    }
   ],
   "source": [
    "data.columns"
   ]
  },
  {
   "cell_type": "code",
   "execution_count": 29,
   "id": "2b292129",
   "metadata": {},
   "outputs": [],
   "source": [
    "y=data[[\"Exited\"]]"
   ]
  },
  {
   "cell_type": "code",
   "execution_count": 30,
   "id": "7de55dc1",
   "metadata": {},
   "outputs": [],
   "source": [
    "x=data.drop(\"Exited\",axis=1)"
   ]
  },
  {
   "cell_type": "code",
   "execution_count": 33,
   "id": "30d038c8",
   "metadata": {},
   "outputs": [],
   "source": [
    "from sklearn.model_selection import train_test_split"
   ]
  },
  {
   "cell_type": "code",
   "execution_count": 38,
   "id": "2070ecaf",
   "metadata": {},
   "outputs": [],
   "source": [
    "temp=trans.fit_transform(x)"
   ]
  },
  {
   "cell_type": "code",
   "execution_count": 46,
   "id": "f88ac46b",
   "metadata": {},
   "outputs": [],
   "source": [
    "x=pd.DataFrame(temp,columns=x.columns)"
   ]
  },
  {
   "cell_type": "code",
   "execution_count": 48,
   "id": "575f169a",
   "metadata": {},
   "outputs": [],
   "source": [
    "train_x,train_y,test_x,test_y=train_test_split(x,y,test_size=0.2,random_state=0)"
   ]
  },
  {
   "cell_type": "code",
   "execution_count": 93,
   "id": "ce2158ac",
   "metadata": {},
   "outputs": [
    {
     "data": {
      "text/plain": [
       "(2000, 1)"
      ]
     },
     "execution_count": 93,
     "metadata": {},
     "output_type": "execute_result"
    }
   ],
   "source": [
    "test_y.shape"
   ]
  },
  {
   "cell_type": "code",
   "execution_count": 52,
   "id": "453f891f",
   "metadata": {},
   "outputs": [],
   "source": [
    "classifier=keras.Sequential()"
   ]
  },
  {
   "cell_type": "code",
   "execution_count": 129,
   "id": "6a5cc7dd",
   "metadata": {
    "scrolled": true
   },
   "outputs": [
    {
     "name": "stdout",
     "output_type": "stream",
     "text": [
      "Epoch 1/100\n",
      "536/536 [==============================] - 4s 3ms/step - loss: 0.5861 - accuracy: 0.8084 - val_loss: 0.4839 - val_accuracy: 0.8425\n",
      "Epoch 2/100\n",
      "536/536 [==============================] - 1s 3ms/step - loss: 0.4576 - accuracy: 0.8261 - val_loss: 0.4183 - val_accuracy: 0.8448\n",
      "Epoch 3/100\n",
      "536/536 [==============================] - 1s 2ms/step - loss: 0.4169 - accuracy: 0.8300 - val_loss: 0.4001 - val_accuracy: 0.8402\n",
      "Epoch 4/100\n",
      "536/536 [==============================] - 1s 2ms/step - loss: 0.4132 - accuracy: 0.8319 - val_loss: 0.3923 - val_accuracy: 0.8444\n",
      "Epoch 5/100\n",
      "536/536 [==============================] - 1s 3ms/step - loss: 0.4094 - accuracy: 0.8330 - val_loss: 0.3939 - val_accuracy: 0.8300\n",
      "Epoch 6/100\n",
      "536/536 [==============================] - 1s 2ms/step - loss: 0.3955 - accuracy: 0.8423 - val_loss: 0.3889 - val_accuracy: 0.8406\n",
      "Epoch 7/100\n",
      "536/536 [==============================] - 1s 3ms/step - loss: 0.3932 - accuracy: 0.8412 - val_loss: 0.3865 - val_accuracy: 0.8497\n",
      "Epoch 8/100\n",
      "536/536 [==============================] - 1s 3ms/step - loss: 0.3890 - accuracy: 0.8502 - val_loss: 0.3835 - val_accuracy: 0.8485\n",
      "Epoch 9/100\n",
      "536/536 [==============================] - 1s 2ms/step - loss: 0.3891 - accuracy: 0.8449 - val_loss: 0.3881 - val_accuracy: 0.8557\n",
      "Epoch 10/100\n",
      "536/536 [==============================] - 1s 3ms/step - loss: 0.3900 - accuracy: 0.8453 - val_loss: 0.3827 - val_accuracy: 0.8451\n",
      "Epoch 11/100\n",
      "536/536 [==============================] - 1s 3ms/step - loss: 0.3853 - accuracy: 0.8479 - val_loss: 0.3878 - val_accuracy: 0.8531\n",
      "Epoch 12/100\n",
      "536/536 [==============================] - 1s 2ms/step - loss: 0.3856 - accuracy: 0.8449 - val_loss: 0.3822 - val_accuracy: 0.8489\n",
      "Epoch 13/100\n",
      "536/536 [==============================] - 1s 2ms/step - loss: 0.3823 - accuracy: 0.8483 - val_loss: 0.3829 - val_accuracy: 0.8432\n",
      "Epoch 14/100\n",
      "536/536 [==============================] - 1s 2ms/step - loss: 0.3919 - accuracy: 0.8386 - val_loss: 0.3859 - val_accuracy: 0.8376\n",
      "Epoch 15/100\n",
      "536/536 [==============================] - 1s 2ms/step - loss: 0.3802 - accuracy: 0.8453 - val_loss: 0.3823 - val_accuracy: 0.8512\n",
      "Epoch 16/100\n",
      "536/536 [==============================] - 1s 2ms/step - loss: 0.3835 - accuracy: 0.8479 - val_loss: 0.3818 - val_accuracy: 0.8531\n",
      "Epoch 17/100\n",
      "536/536 [==============================] - 2s 4ms/step - loss: 0.3735 - accuracy: 0.8563 - val_loss: 0.3815 - val_accuracy: 0.8531\n",
      "Epoch 18/100\n",
      "536/536 [==============================] - 3s 5ms/step - loss: 0.3713 - accuracy: 0.8520 - val_loss: 0.3818 - val_accuracy: 0.8470\n",
      "Epoch 19/100\n",
      "536/536 [==============================] - 3s 5ms/step - loss: 0.3780 - accuracy: 0.8503 - val_loss: 0.3823 - val_accuracy: 0.8527\n",
      "Epoch 20/100\n",
      "536/536 [==============================] - 3s 5ms/step - loss: 0.3759 - accuracy: 0.8550 - val_loss: 0.3813 - val_accuracy: 0.8493\n",
      "Epoch 21/100\n",
      "536/536 [==============================] - 3s 5ms/step - loss: 0.3727 - accuracy: 0.8537 - val_loss: 0.3823 - val_accuracy: 0.8440\n",
      "Epoch 22/100\n",
      "536/536 [==============================] - 2s 5ms/step - loss: 0.3775 - accuracy: 0.8487 - val_loss: 0.3833 - val_accuracy: 0.8406\n",
      "Epoch 23/100\n",
      "536/536 [==============================] - 3s 5ms/step - loss: 0.3740 - accuracy: 0.8535 - val_loss: 0.3826 - val_accuracy: 0.8417\n",
      "Epoch 24/100\n",
      "536/536 [==============================] - 3s 5ms/step - loss: 0.3732 - accuracy: 0.8550 - val_loss: 0.3843 - val_accuracy: 0.8538\n",
      "Epoch 25/100\n",
      "536/536 [==============================] - 3s 5ms/step - loss: 0.3732 - accuracy: 0.8580 - val_loss: 0.3894 - val_accuracy: 0.8508\n",
      "Epoch 26/100\n",
      "536/536 [==============================] - 3s 5ms/step - loss: 0.3710 - accuracy: 0.8563 - val_loss: 0.3813 - val_accuracy: 0.8455\n",
      "Epoch 27/100\n",
      "536/536 [==============================] - 2s 5ms/step - loss: 0.3735 - accuracy: 0.8485 - val_loss: 0.3827 - val_accuracy: 0.8569\n",
      "Epoch 28/100\n",
      "536/536 [==============================] - 3s 5ms/step - loss: 0.3669 - accuracy: 0.8571 - val_loss: 0.3805 - val_accuracy: 0.8504\n",
      "Epoch 29/100\n",
      "536/536 [==============================] - 3s 6ms/step - loss: 0.3678 - accuracy: 0.8574 - val_loss: 0.3806 - val_accuracy: 0.8466\n",
      "Epoch 30/100\n",
      "536/536 [==============================] - 3s 6ms/step - loss: 0.3704 - accuracy: 0.8545 - val_loss: 0.3804 - val_accuracy: 0.8535\n",
      "Epoch 31/100\n",
      "536/536 [==============================] - 3s 6ms/step - loss: 0.3739 - accuracy: 0.8494 - val_loss: 0.3799 - val_accuracy: 0.8489\n",
      "Epoch 32/100\n",
      "536/536 [==============================] - 3s 6ms/step - loss: 0.3712 - accuracy: 0.8552 - val_loss: 0.3808 - val_accuracy: 0.8542\n",
      "Epoch 33/100\n",
      "536/536 [==============================] - 3s 6ms/step - loss: 0.3688 - accuracy: 0.8578 - val_loss: 0.3800 - val_accuracy: 0.8531\n",
      "Epoch 34/100\n",
      "536/536 [==============================] - 3s 5ms/step - loss: 0.3728 - accuracy: 0.8571 - val_loss: 0.3828 - val_accuracy: 0.8546\n",
      "Epoch 35/100\n",
      "536/536 [==============================] - 2s 5ms/step - loss: 0.3707 - accuracy: 0.8561 - val_loss: 0.3813 - val_accuracy: 0.8466\n",
      "Epoch 36/100\n",
      "536/536 [==============================] - 2s 4ms/step - loss: 0.3745 - accuracy: 0.8502 - val_loss: 0.3871 - val_accuracy: 0.8504\n",
      "Epoch 37/100\n",
      "536/536 [==============================] - 3s 5ms/step - loss: 0.3696 - accuracy: 0.8543 - val_loss: 0.3820 - val_accuracy: 0.8410\n",
      "Epoch 38/100\n",
      "536/536 [==============================] - 2s 5ms/step - loss: 0.3705 - accuracy: 0.8522 - val_loss: 0.3804 - val_accuracy: 0.8466\n",
      "Epoch 39/100\n",
      "536/536 [==============================] - 2s 4ms/step - loss: 0.3675 - accuracy: 0.8574 - val_loss: 0.3821 - val_accuracy: 0.8531\n",
      "Epoch 40/100\n",
      "536/536 [==============================] - 2s 4ms/step - loss: 0.3683 - accuracy: 0.8541 - val_loss: 0.3819 - val_accuracy: 0.8538\n",
      "Epoch 41/100\n",
      "536/536 [==============================] - 2s 5ms/step - loss: 0.3677 - accuracy: 0.8520 - val_loss: 0.3813 - val_accuracy: 0.8444\n",
      "Epoch 42/100\n",
      "536/536 [==============================] - 3s 5ms/step - loss: 0.3724 - accuracy: 0.8548 - val_loss: 0.3799 - val_accuracy: 0.8501\n",
      "Epoch 43/100\n",
      "536/536 [==============================] - 2s 5ms/step - loss: 0.3632 - accuracy: 0.8582 - val_loss: 0.3814 - val_accuracy: 0.8523\n",
      "Epoch 44/100\n",
      "536/536 [==============================] - 3s 5ms/step - loss: 0.3690 - accuracy: 0.8541 - val_loss: 0.3816 - val_accuracy: 0.8557\n",
      "Epoch 45/100\n",
      "536/536 [==============================] - 2s 5ms/step - loss: 0.3732 - accuracy: 0.8552 - val_loss: 0.3807 - val_accuracy: 0.8531\n",
      "Epoch 46/100\n",
      "536/536 [==============================] - 2s 5ms/step - loss: 0.3656 - accuracy: 0.8571 - val_loss: 0.3812 - val_accuracy: 0.8535\n",
      "Epoch 47/100\n",
      "536/536 [==============================] - 2s 5ms/step - loss: 0.3606 - accuracy: 0.8567 - val_loss: 0.3859 - val_accuracy: 0.8379\n",
      "Epoch 48/100\n",
      "536/536 [==============================] - 2s 4ms/step - loss: 0.3658 - accuracy: 0.8565 - val_loss: 0.3861 - val_accuracy: 0.8512\n",
      "Epoch 49/100\n",
      "536/536 [==============================] - 2s 4ms/step - loss: 0.3665 - accuracy: 0.8610 - val_loss: 0.3799 - val_accuracy: 0.8516\n",
      "Epoch 50/100\n",
      "536/536 [==============================] - 2s 4ms/step - loss: 0.3690 - accuracy: 0.8530 - val_loss: 0.3809 - val_accuracy: 0.8478\n",
      "Epoch 51/100\n",
      "536/536 [==============================] - 3s 5ms/step - loss: 0.3702 - accuracy: 0.8561 - val_loss: 0.3901 - val_accuracy: 0.8270\n",
      "Epoch 52/100\n",
      "536/536 [==============================] - 3s 5ms/step - loss: 0.3665 - accuracy: 0.8546 - val_loss: 0.3804 - val_accuracy: 0.8489\n",
      "Epoch 53/100\n",
      "536/536 [==============================] - 3s 5ms/step - loss: 0.3702 - accuracy: 0.8572 - val_loss: 0.3799 - val_accuracy: 0.8474\n",
      "Epoch 54/100\n",
      "536/536 [==============================] - 3s 5ms/step - loss: 0.3680 - accuracy: 0.8571 - val_loss: 0.3838 - val_accuracy: 0.8512\n",
      "Epoch 55/100\n",
      "536/536 [==============================] - 2s 4ms/step - loss: 0.3651 - accuracy: 0.8610 - val_loss: 0.3832 - val_accuracy: 0.8501\n",
      "Epoch 56/100\n",
      "536/536 [==============================] - 2s 4ms/step - loss: 0.3646 - accuracy: 0.8612 - val_loss: 0.3807 - val_accuracy: 0.8523\n",
      "Epoch 57/100\n",
      "536/536 [==============================] - 2s 4ms/step - loss: 0.3634 - accuracy: 0.8632 - val_loss: 0.3797 - val_accuracy: 0.8466\n"
     ]
    },
    {
     "name": "stdout",
     "output_type": "stream",
     "text": [
      "Epoch 58/100\n",
      "536/536 [==============================] - 2s 5ms/step - loss: 0.3622 - accuracy: 0.8593 - val_loss: 0.3799 - val_accuracy: 0.8421\n",
      "Epoch 59/100\n",
      "536/536 [==============================] - 2s 4ms/step - loss: 0.3635 - accuracy: 0.8563 - val_loss: 0.3834 - val_accuracy: 0.8527\n",
      "Epoch 60/100\n",
      "536/536 [==============================] - 2s 4ms/step - loss: 0.3624 - accuracy: 0.8552 - val_loss: 0.3795 - val_accuracy: 0.8535\n",
      "Epoch 61/100\n",
      "536/536 [==============================] - 2s 4ms/step - loss: 0.3678 - accuracy: 0.8545 - val_loss: 0.3825 - val_accuracy: 0.8406\n",
      "Epoch 62/100\n",
      "536/536 [==============================] - 3s 5ms/step - loss: 0.3659 - accuracy: 0.8548 - val_loss: 0.3807 - val_accuracy: 0.8512\n",
      "Epoch 63/100\n",
      "536/536 [==============================] - 3s 5ms/step - loss: 0.3616 - accuracy: 0.8580 - val_loss: 0.3794 - val_accuracy: 0.8436\n",
      "Epoch 64/100\n",
      "536/536 [==============================] - 3s 5ms/step - loss: 0.3650 - accuracy: 0.8567 - val_loss: 0.3788 - val_accuracy: 0.8527\n",
      "Epoch 65/100\n",
      "536/536 [==============================] - 2s 4ms/step - loss: 0.3625 - accuracy: 0.8589 - val_loss: 0.3805 - val_accuracy: 0.8523\n",
      "Epoch 66/100\n",
      "536/536 [==============================] - 3s 5ms/step - loss: 0.3606 - accuracy: 0.8636 - val_loss: 0.3792 - val_accuracy: 0.8516\n",
      "Epoch 67/100\n",
      "536/536 [==============================] - 2s 4ms/step - loss: 0.3668 - accuracy: 0.8554 - val_loss: 0.3893 - val_accuracy: 0.8535\n",
      "Epoch 68/100\n",
      "536/536 [==============================] - 3s 6ms/step - loss: 0.3620 - accuracy: 0.8543 - val_loss: 0.3785 - val_accuracy: 0.8463\n",
      "Epoch 69/100\n",
      "536/536 [==============================] - 3s 5ms/step - loss: 0.3613 - accuracy: 0.8572 - val_loss: 0.3777 - val_accuracy: 0.8531\n",
      "Epoch 70/100\n",
      "536/536 [==============================] - 3s 5ms/step - loss: 0.3721 - accuracy: 0.8531 - val_loss: 0.3795 - val_accuracy: 0.8535\n",
      "Epoch 71/100\n",
      "536/536 [==============================] - 3s 5ms/step - loss: 0.3626 - accuracy: 0.8574 - val_loss: 0.3788 - val_accuracy: 0.8554\n",
      "Epoch 72/100\n",
      "536/536 [==============================] - 3s 6ms/step - loss: 0.3622 - accuracy: 0.8537 - val_loss: 0.3785 - val_accuracy: 0.8565\n",
      "Epoch 73/100\n",
      "536/536 [==============================] - 3s 5ms/step - loss: 0.3624 - accuracy: 0.8556 - val_loss: 0.3795 - val_accuracy: 0.8512\n",
      "Epoch 74/100\n",
      "536/536 [==============================] - 3s 5ms/step - loss: 0.3597 - accuracy: 0.8591 - val_loss: 0.3766 - val_accuracy: 0.8523\n",
      "Epoch 75/100\n",
      "536/536 [==============================] - 3s 5ms/step - loss: 0.3608 - accuracy: 0.8556 - val_loss: 0.3775 - val_accuracy: 0.8542\n",
      "Epoch 76/100\n",
      "536/536 [==============================] - 3s 5ms/step - loss: 0.3640 - accuracy: 0.8591 - val_loss: 0.3783 - val_accuracy: 0.8535\n",
      "Epoch 77/100\n",
      "536/536 [==============================] - 3s 5ms/step - loss: 0.3620 - accuracy: 0.8535 - val_loss: 0.3772 - val_accuracy: 0.8554\n",
      "Epoch 78/100\n",
      "536/536 [==============================] - 3s 6ms/step - loss: 0.3578 - accuracy: 0.8608 - val_loss: 0.3803 - val_accuracy: 0.8519\n",
      "Epoch 79/100\n",
      "536/536 [==============================] - 3s 6ms/step - loss: 0.3617 - accuracy: 0.8561 - val_loss: 0.3823 - val_accuracy: 0.8508\n",
      "Epoch 80/100\n",
      "536/536 [==============================] - 3s 5ms/step - loss: 0.3570 - accuracy: 0.8604 - val_loss: 0.3775 - val_accuracy: 0.8523\n",
      "Epoch 81/100\n",
      "536/536 [==============================] - 3s 6ms/step - loss: 0.3622 - accuracy: 0.8548 - val_loss: 0.3780 - val_accuracy: 0.8519\n",
      "Epoch 82/100\n",
      "536/536 [==============================] - 3s 6ms/step - loss: 0.3601 - accuracy: 0.8610 - val_loss: 0.3791 - val_accuracy: 0.8519\n",
      "Epoch 83/100\n",
      "536/536 [==============================] - 3s 5ms/step - loss: 0.3645 - accuracy: 0.8597 - val_loss: 0.3764 - val_accuracy: 0.8542\n",
      "Epoch 84/100\n",
      "536/536 [==============================] - 3s 5ms/step - loss: 0.3577 - accuracy: 0.8561 - val_loss: 0.3763 - val_accuracy: 0.8546\n",
      "Epoch 85/100\n",
      "536/536 [==============================] - 3s 5ms/step - loss: 0.3600 - accuracy: 0.8561 - val_loss: 0.3824 - val_accuracy: 0.8519\n",
      "Epoch 86/100\n",
      "536/536 [==============================] - 3s 5ms/step - loss: 0.3597 - accuracy: 0.8563 - val_loss: 0.3903 - val_accuracy: 0.8497\n",
      "Epoch 87/100\n",
      "536/536 [==============================] - 3s 5ms/step - loss: 0.3627 - accuracy: 0.8589 - val_loss: 0.3792 - val_accuracy: 0.8512\n",
      "Epoch 88/100\n",
      "536/536 [==============================] - 3s 5ms/step - loss: 0.3558 - accuracy: 0.8595 - val_loss: 0.3894 - val_accuracy: 0.8493\n",
      "Epoch 89/100\n",
      "536/536 [==============================] - 3s 5ms/step - loss: 0.3637 - accuracy: 0.8561 - val_loss: 0.3735 - val_accuracy: 0.8531\n",
      "Epoch 90/100\n",
      "536/536 [==============================] - 3s 5ms/step - loss: 0.3640 - accuracy: 0.8552 - val_loss: 0.3750 - val_accuracy: 0.8512\n",
      "Epoch 91/100\n",
      "536/536 [==============================] - 2s 5ms/step - loss: 0.3616 - accuracy: 0.8496 - val_loss: 0.3762 - val_accuracy: 0.8550\n",
      "Epoch 92/100\n",
      "536/536 [==============================] - 2s 4ms/step - loss: 0.3618 - accuracy: 0.8589 - val_loss: 0.3752 - val_accuracy: 0.8535\n",
      "Epoch 93/100\n",
      "536/536 [==============================] - 3s 5ms/step - loss: 0.3617 - accuracy: 0.8537 - val_loss: 0.3840 - val_accuracy: 0.8512\n",
      "Epoch 94/100\n",
      "536/536 [==============================] - 3s 5ms/step - loss: 0.3666 - accuracy: 0.8543 - val_loss: 0.3770 - val_accuracy: 0.8535\n",
      "Epoch 95/100\n",
      "536/536 [==============================] - 3s 5ms/step - loss: 0.3636 - accuracy: 0.8539 - val_loss: 0.3761 - val_accuracy: 0.8538\n",
      "Epoch 96/100\n",
      "536/536 [==============================] - 3s 6ms/step - loss: 0.3601 - accuracy: 0.8541 - val_loss: 0.3767 - val_accuracy: 0.8535\n",
      "Epoch 97/100\n",
      "536/536 [==============================] - 3s 6ms/step - loss: 0.3586 - accuracy: 0.8561 - val_loss: 0.3766 - val_accuracy: 0.8523\n",
      "Epoch 98/100\n",
      "536/536 [==============================] - 3s 6ms/step - loss: 0.3631 - accuracy: 0.8545 - val_loss: 0.3802 - val_accuracy: 0.8489\n",
      "Epoch 99/100\n",
      "536/536 [==============================] - 3s 6ms/step - loss: 0.3559 - accuracy: 0.8522 - val_loss: 0.3774 - val_accuracy: 0.8527\n",
      "Epoch 100/100\n",
      "536/536 [==============================] - 4s 7ms/step - loss: 0.3597 - accuracy: 0.8595 - val_loss: 0.3847 - val_accuracy: 0.8508\n"
     ]
    }
   ],
   "source": [
    "classifier.add(keras.layers.Dense(units= 10, kernel_initializer = 'he_uniform',activation='relu',input_dim = 11))\n",
    "classifier.add(keras.layers.Dropout(0.3))\n",
    "# Adding the second hidden layer\n",
    "classifier.add(keras.layers.Dense(units = 15, kernel_initializer = 'he_uniform',activation='relu'))\n",
    "classifier.add(keras.layers.Dropout(0.3))\n",
    "# Adding the output layer\n",
    "classifier.add(keras.layers.Dense(units = 1,kernel_initializer = 'glorot_uniform', activation = 'sigmoid'))\n",
    "\n",
    "# Compiling the ANN\n",
    "classifier.compile(optimizer = 'Adamax', loss = 'binary_crossentropy', metrics = ['accuracy'])\n",
    "\n",
    "# Fitting the ANN to the Training set\n",
    "model_history=classifier.fit(train_x,test_x,validation_split=0.33, batch_size = 10, epochs = 100)"
   ]
  },
  {
   "cell_type": "code",
   "execution_count": 130,
   "id": "091c7948",
   "metadata": {},
   "outputs": [
    {
     "name": "stdout",
     "output_type": "stream",
     "text": [
      "dict_keys(['loss', 'accuracy', 'val_loss', 'val_accuracy'])\n"
     ]
    }
   ],
   "source": [
    "print(model_history.history.keys())"
   ]
  },
  {
   "cell_type": "code",
   "execution_count": 131,
   "id": "5216cef8",
   "metadata": {},
   "outputs": [
    {
     "data": {
      "image/png": "[encoded data removed]",
      "text/plain": [
       "<Figure size 640x480 with 1 Axes>"
      ]
     },
     "metadata": {},
     "output_type": "display_data"
    }
   ],
   "source": [
    "# summarize history for accuracy\n",
    "plt.subplot(1,2,1)\n",
    "plt.plot(model_history.history['accuracy'])\n",
    "plt.plot(model_history.history['val_accuracy'])\n",
    "plt.title('model accuracy')\n",
    "plt.ylabel('accuracy')\n",
    "plt.xlabel('epoch')\n",
    "plt.legend(['train', 'test'], loc='upper left')\n",
    "plt.show()"
   ]
  },
  {
   "cell_type": "code",
   "execution_count": 132,
   "id": "1b871bcf",
   "metadata": {},
   "outputs": [
    {
     "data": {
      "image/png": "[encoded data removed]",
      "text/plain": [
       "<Figure size 640x480 with 1 Axes>"
      ]
     },
     "metadata": {},
     "output_type": "display_data"
    }
   ],
   "source": [
    "# summarize history for loss\n",
    "plt.subplot(1,2,2)\n",
    "plt.plot(model_history.history['loss'])\n",
    "plt.plot(model_history.history['val_loss'])\n",
    "plt.title('model loss')\n",
    "plt.ylabel('loss')\n",
    "plt.xlabel('epoch')\n",
    "plt.legend(['train', 'test'], loc='upper left')\n",
    "plt.show()"
   ]
  },
  {
   "cell_type": "code",
   "execution_count": 133,
   "id": "f4e27f0e",
   "metadata": {},
   "outputs": [
    {
     "name": "stdout",
     "output_type": "stream",
     "text": [
      "63/63 [==============================] - 1s 3ms/step\n"
     ]
    }
   ],
   "source": [
    "# Predicting the Test set results\n",
    "y_pred = classifier.predict(train_y)\n",
    "y_pred = (y_pred > 0.5)"
   ]
  },
  {
   "cell_type": "code",
   "execution_count": 134,
   "id": "b4f5b412",
   "metadata": {},
   "outputs": [
    {
     "data": {
      "text/plain": [
       "(2000, 1)"
      ]
     },
     "execution_count": 134,
     "metadata": {},
     "output_type": "execute_result"
    }
   ],
   "source": [
    "test_y.shape"
   ]
  },
  {
   "cell_type": "code",
   "execution_count": 135,
   "id": "bdba8259",
   "metadata": {},
   "outputs": [],
   "source": [
    "# Making the Confusion Matrix\n",
    "from sklearn.metrics import confusion_matrix\n",
    "cm = confusion_matrix(test_y, y_pred)\n",
    "\n",
    "# Calculate the Accuracy\n",
    "from sklearn.metrics import accuracy_score\n",
    "score=accuracy_score(test_y,y_pred)"
   ]
  },
  {
   "cell_type": "code",
   "execution_count": 136,
   "id": "14b80833",
   "metadata": {},
   "outputs": [],
   "source": [
    "from sklearn.metrics import f1_score\n",
    "from sklearn.metrics import precision_score\n",
    "from sklearn.metrics import recall_score\n",
    "from sklearn.metrics import roc_auc_score"
   ]
  },
  {
   "cell_type": "code",
   "execution_count": 137,
   "id": "2e040850",
   "metadata": {},
   "outputs": [
    {
     "name": "stdout",
     "output_type": "stream",
     "text": [
      "f1_score : 0.5811688311688311\n",
      "precision_score : 0.8483412322274881\n",
      "recall_score : 0.4419753086419753\n",
      "roc_auc_score : 0.7109563063586053\n"
     ]
    }
   ],
   "source": [
    "print(\"f1_score : {}\".format(f1_score(test_y,y_pred)))\n",
    "print(\"precision_score : {}\".format(precision_score(test_y,y_pred)))\n",
    "print(\"recall_score : {}\".format(recall_score(test_y,y_pred)))\n",
    "print(\"roc_auc_score : {}\".format(roc_auc_score(test_y,y_pred)))"
   ]
  },
  {
   "cell_type": "code",
   "execution_count": 138,
   "id": "51e135ac",
   "metadata": {},
   "outputs": [
    {
     "name": "stdout",
     "output_type": "stream",
     "text": [
      "              precision    recall  f1-score   support\n",
      "\n",
      "           0       0.87      0.98      0.92      1595\n",
      "           1       0.85      0.44      0.58       405\n",
      "\n",
      "    accuracy                           0.87      2000\n",
      "   macro avg       0.86      0.71      0.75      2000\n",
      "weighted avg       0.87      0.87      0.85      2000\n",
      "\n"
     ]
    }
   ],
   "source": [
    "from sklearn.metrics import classification_report\n",
    "print(classification_report(test_y,y_pred))"
   ]
  },
  {
   "cell_type": "code",
   "execution_count": 147,
   "id": "559a0fd8",
   "metadata": {},
   "outputs": [
    {
     "data": {
      "text/plain": [
       "array([[1563,   32],\n",
       "       [ 226,  179]], dtype=int64)"
      ]
     },
     "execution_count": 147,
     "metadata": {},
     "output_type": "execute_result"
    }
   ],
   "source": [
    "cm"
   ]
  },
  {
   "cell_type": "code",
   "execution_count": 151,
   "id": "8fc71b40",
   "metadata": {},
   "outputs": [
    {
     "data": {
      "image/png": "[encoded data removed]",
      "text/plain": [
       "<Figure size 640x480 with 2 Axes>"
      ]
     },
     "metadata": {},
     "output_type": "display_data"
    }
   ],
   "source": [
    "sns.heatmap(cm,annot=True)\n",
    "plt.title('CONFUSION MATRIX')\n",
    "plt.show()"
   ]
  },
  {
   "cell_type": "code",
   "execution_count": null,
   "id": "6fb0f67b",
   "metadata": {},
   "outputs": [],
   "source": []
  }
 ],
 "metadata": {
  "kernelspec": {
   "display_name": "Python 3 (ipykernel)",
   "language": "python",
   "name": "python3"
  },
  "language_info": {
   "codemirror_mode": {
    "name": "ipython",
    "version": 3
   },
   "file_extension": ".py",
   "mimetype": "text/x-python",
   "name": "python",
   "nbconvert_exporter": "python",
   "pygments_lexer": "ipython3",
   "version": "3.9.13"
  }
 },
 "nbformat": 4,
 "nbformat_minor": 5
}
