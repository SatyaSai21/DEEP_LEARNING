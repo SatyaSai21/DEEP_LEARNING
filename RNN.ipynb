{
  "cells": [
    {
      "cell_type": "markdown",
      "metadata": {
        "id": "view-in-github",
        "colab_type": "text"
      },
      "source": [
        "<a href=\"https://colab.research.google.com/github/SatyaSai21/DEEP_LEARNING/blob/main/RNN.ipynb\" target=\"_parent\"><img src=\"https://colab.research.google.com/assets/colab-badge.svg\" alt=\"Open In Colab\"/></a>"
      ]
    },
    {
      "cell_type": "code",
      "source": [
        "%tensorflow_version 2.x  # this line is not required unless you are in a notebook\n",
        "from keras.datasets import imdb\n",
        "from keras.preprocessing import sequence\n",
        "import keras\n",
        "import tensorflow as tf\n",
        "import os\n",
        "import numpy as np\n",
        "\n",
        "VOCAB_SIZE = 88584\n",
        "\n",
        "MAXLEN = 250\n",
        "BATCH_SIZE = 64\n",
        "\n",
        "(train_data, train_labels), (test_data, test_labels) = imdb.load_data(num_words = VOCAB_SIZE)"
      ],
      "metadata": {
        "colab": {
          "base_uri": "https://localhost:8080/"
        },
        "id": "Slq5u43Qi8r3",
        "outputId": "3b488113-7163-4c53-af1b-d3044885b16b"
      },
      "execution_count": 34,
      "outputs": [
        {
          "output_type": "stream",
          "name": "stdout",
          "text": [
            "Colab only includes TensorFlow 2.x; %tensorflow_version has no effect.\n",
            "Downloading data from https://storage.googleapis.com/tensorflow/tf-keras-datasets/imdb.npz\n",
            "17464789/17464789 [==============================] - 1s 0us/step\n"
          ]
        }
      ]
    },
    {
      "cell_type": "code",
      "source": [
        "train_data.shape"
      ],
      "metadata": {
        "colab": {
          "base_uri": "https://localhost:8080/"
        },
        "id": "XyMLgIX2t3cW",
        "outputId": "9f173743-4dac-4513-af00-e38f50ce8a9a"
      },
      "execution_count": 35,
      "outputs": [
        {
          "output_type": "execute_result",
          "data": {
            "text/plain": [
              "(25000,)"
            ]
          },
          "metadata": {},
          "execution_count": 35
        }
      ]
    },
    {
      "cell_type": "code",
      "source": [
        "train_data = keras.utils.pad_sequences(train_data, MAXLEN)\n",
        "test_data = keras.utils.pad_sequences(test_data, MAXLEN)"
      ],
      "metadata": {
        "id": "L1juniORjQJ0"
      },
      "execution_count": 36,
      "outputs": []
    },
    {
      "cell_type": "code",
      "source": [
        "model = tf.keras.Sequential([\n",
        "    tf.keras.layers.Embedding(VOCAB_SIZE, 32),\n",
        "    tf.keras.layers.LSTM(32),\n",
        "    tf.keras.layers.Dense(1, activation=\"sigmoid\")\n",
        "])"
      ],
      "metadata": {
        "id": "OzWmFiMHjQGR"
      },
      "execution_count": 37,
      "outputs": []
    },
    {
      "cell_type": "code",
      "source": [
        "# now time to make a prediction\n",
        "# while were at it lets make a decode function\n",
        "model.summary()\n"
      ],
      "metadata": {
        "colab": {
          "base_uri": "https://localhost:8080/"
        },
        "id": "tHlGTXDwjQD-",
        "outputId": "8ef961d8-5410-47ea-d11f-73461df967d8"
      },
      "execution_count": 38,
      "outputs": [
        {
          "output_type": "stream",
          "name": "stdout",
          "text": [
            "Model: \"sequential_2\"\n",
            "_________________________________________________________________\n",
            " Layer (type)                Output Shape              Param #   \n",
            "=================================================================\n",
            " embedding_2 (Embedding)     (None, None, 32)          2834688   \n",
            "                                                                 \n",
            " lstm_2 (LSTM)               (None, 32)                8320      \n",
            "                                                                 \n",
            " dense_2 (Dense)             (None, 1)                 33        \n",
            "                                                                 \n",
            "=================================================================\n",
            "Total params: 2,843,041\n",
            "Trainable params: 2,843,041\n",
            "Non-trainable params: 0\n",
            "_________________________________________________________________\n"
          ]
        }
      ]
    },
    {
      "cell_type": "code",
      "source": [
        "model.compile(loss=\"binary_crossentropy\",optimizer=\"rmsprop\",metrics=['acc'])\n",
        "\n",
        "history = model.fit(train_data, train_labels, epochs=10, validation_split=0.2)\n",
        "results = model.evaluate(test_data, test_labels)\n",
        "print(results)\n",
        "\n",
        "\n",
        "\n",
        "\n"
      ],
      "metadata": {
        "colab": {
          "base_uri": "https://localhost:8080/"
        },
        "id": "mc2WsPrHj0SV",
        "outputId": "45e20b93-c610-4be0-f63d-64db90722f89"
      },
      "execution_count": 48,
      "outputs": [
        {
          "output_type": "stream",
          "name": "stdout",
          "text": [
            "Epoch 1/10\n",
            "625/625 [==============================] - 60s 94ms/step - loss: 0.3764 - acc: 0.8418 - val_loss: 0.3173 - val_acc: 0.8712\n",
            "Epoch 2/10\n",
            "625/625 [==============================] - 22s 36ms/step - loss: 0.2463 - acc: 0.9066 - val_loss: 0.3158 - val_acc: 0.8690\n",
            "Epoch 3/10\n",
            "625/625 [==============================] - 14s 23ms/step - loss: 0.1931 - acc: 0.9302 - val_loss: 0.3207 - val_acc: 0.8840\n",
            "Epoch 4/10\n",
            "625/625 [==============================] - 12s 19ms/step - loss: 0.1552 - acc: 0.9442 - val_loss: 0.2979 - val_acc: 0.8872\n",
            "Epoch 5/10\n",
            "625/625 [==============================] - 10s 16ms/step - loss: 0.1283 - acc: 0.9565 - val_loss: 0.3924 - val_acc: 0.8722\n",
            "Epoch 6/10\n",
            "625/625 [==============================] - 9s 14ms/step - loss: 0.1071 - acc: 0.9650 - val_loss: 0.3478 - val_acc: 0.8878\n",
            "Epoch 7/10\n",
            "625/625 [==============================] - 8s 13ms/step - loss: 0.0937 - acc: 0.9703 - val_loss: 0.3434 - val_acc: 0.8836\n",
            "Epoch 8/10\n",
            "625/625 [==============================] - 9s 15ms/step - loss: 0.0767 - acc: 0.9753 - val_loss: 0.3982 - val_acc: 0.8724\n",
            "Epoch 9/10\n",
            "625/625 [==============================] - 8s 12ms/step - loss: 0.0659 - acc: 0.9797 - val_loss: 0.4088 - val_acc: 0.8812\n",
            "Epoch 10/10\n",
            "625/625 [==============================] - 8s 13ms/step - loss: 0.0558 - acc: 0.9825 - val_loss: 0.5819 - val_acc: 0.8324\n",
            "782/782 [==============================] - 4s 5ms/step - loss: 0.5907 - acc: 0.8290\n",
            "[0.590716540813446, 0.8289999961853027]\n"
          ]
        }
      ]
    },
    {
      "cell_type": "code",
      "source": [
        "word_index = imdb.get_word_index()\n",
        "i=0\n",
        "print(\"WORD_DICTIONARY OF THE WHOLE DATASET :\")\n",
        "print(\"\\n\")\n",
        "for key,value in word_index.items():\n",
        "  print(str(key)+\":\"+str(value))\n",
        "  if(i==15):\n",
        "    break\n",
        "  i+=1"
      ],
      "metadata": {
        "colab": {
          "base_uri": "https://localhost:8080/"
        },
        "id": "gyEQYXk0tmxj",
        "outputId": "db1af7f4-e23d-42c1-c48b-63836e2d3856"
      },
      "execution_count": 47,
      "outputs": [
        {
          "output_type": "stream",
          "name": "stdout",
          "text": [
            "WORD_DICTIONARY OF THE WHOLE DATASET :\n",
            "\n",
            "\n",
            "fawn:34701\n",
            "tsukino:52006\n",
            "nunnery:52007\n",
            "sonja:16816\n",
            "vani:63951\n",
            "woods:1408\n",
            "spiders:16115\n",
            "hanging:2345\n",
            "woody:2289\n",
            "trawling:52008\n",
            "hold's:52009\n",
            "comically:11307\n",
            "localized:40830\n",
            "disobeying:30568\n",
            "'royale:52010\n",
            "harpo's:40831\n"
          ]
        }
      ]
    },
    {
      "cell_type": "code",
      "source": [
        "\n",
        "\n",
        "def encode_text(text):\n",
        "  tokens = keras.preprocessing.text.text_to_word_sequence(text)\n",
        "  print(tokens)\n",
        "  tokens = [word_index[word] if word in word_index else 0 for word in tokens]\n",
        "  print(\"2\")\n",
        "  print(tokens)\n",
        "  return keras.utils.pad_sequences([tokens], MAXLEN)[0]\n",
        "\n",
        "text = \"that movie was just amazing, so amazing\"\n",
        "encoded = encode_text(text)\n",
        "print(encoded)\n",
        "\n",
        "reverse_word_index = {value: key for (key, value) in word_index.items()}\n"
      ],
      "metadata": {
        "colab": {
          "base_uri": "https://localhost:8080/"
        },
        "id": "lXYuohv0j0F8",
        "outputId": "8b0c5509-8321-49af-f28c-abc97acf64df"
      },
      "execution_count": 21,
      "outputs": [
        {
          "output_type": "stream",
          "name": "stdout",
          "text": [
            "['that', 'movie', 'was', 'just', 'amazing', 'so', 'amazing']\n",
            "2\n",
            "[12, 17, 13, 40, 477, 35, 477]\n",
            "[  0   0   0   0   0   0   0   0   0   0   0   0   0   0   0   0   0   0\n",
            "   0   0   0   0   0   0   0   0   0   0   0   0   0   0   0   0   0   0\n",
            "   0   0   0   0   0   0   0   0   0   0   0   0   0   0   0   0   0   0\n",
            "   0   0   0   0   0   0   0   0   0   0   0   0   0   0   0   0   0   0\n",
            "   0   0   0   0   0   0   0   0   0   0   0   0   0   0   0   0   0   0\n",
            "   0   0   0   0   0   0   0   0   0   0   0   0   0   0   0   0   0   0\n",
            "   0   0   0   0   0   0   0   0   0   0   0   0   0   0   0   0   0   0\n",
            "   0   0   0   0   0   0   0   0   0   0   0   0   0   0   0   0   0   0\n",
            "   0   0   0   0   0   0   0   0   0   0   0   0   0   0   0   0   0   0\n",
            "   0   0   0   0   0   0   0   0   0   0   0   0   0   0   0   0   0   0\n",
            "   0   0   0   0   0   0   0   0   0   0   0   0   0   0   0   0   0   0\n",
            "   0   0   0   0   0   0   0   0   0   0   0   0   0   0   0   0   0   0\n",
            "   0   0   0   0   0   0   0   0   0   0   0   0   0   0   0   0   0   0\n",
            "   0   0   0   0   0   0   0   0   0  12  17  13  40 477  35 477]\n"
          ]
        }
      ]
    },
    {
      "cell_type": "code",
      "source": [
        "reverse_word_index = {value: key for (key, value) in word_index.items()}\n",
        "def decode_integers(integers):\n",
        "    PAD = 0\n",
        "    text = \"\"\n",
        "    for num in integers:\n",
        "      if num != PAD:\n",
        "        text += reverse_word_index[num] + \" \"\n",
        "\n",
        "    return text[:-1]\n",
        "print(decode_integers(encoded))"
      ],
      "metadata": {
        "colab": {
          "base_uri": "https://localhost:8080/"
        },
        "id": "iHOw5MnLj0Cm",
        "outputId": "86710faa-95ec-4781-cd90-02c36dcf14e0"
      },
      "execution_count": 15,
      "outputs": [
        {
          "output_type": "stream",
          "name": "stdout",
          "text": [
            "that movie was just amazing so amazing\n"
          ]
        }
      ]
    },
    {
      "cell_type": "code",
      "source": [
        "def predict(text):\n",
        "  encoded_text = encode_text(text)\n",
        "  pred = np.zeros((1,250))\n",
        "  pred[0] = encoded_text\n",
        "  result = model.predict(pred)\n",
        "  print(result[0])\n",
        "\n",
        "positive_review = \"That movie was! really loved it and would great watch it again because it was amazingly great\"\n",
        "predict(positive_review)\n",
        "\n",
        "negative_review = \"that movie really sucked. I hated it and wouldn't watch it again. Was one of the worst things I've ever watched\"\n",
        "predict(negative_review)\n"
      ],
      "metadata": {
        "colab": {
          "base_uri": "https://localhost:8080/"
        },
        "id": "Iw6rXd9gjz_3",
        "outputId": "b4b3786e-2c69-421f-a43a-cb91aa4d7a18"
      },
      "execution_count": 16,
      "outputs": [
        {
          "output_type": "stream",
          "name": "stdout",
          "text": [
            "1/1 [==============================] - 0s 360ms/step\n",
            "[0.93679726]\n",
            "1/1 [==============================] - 0s 23ms/step\n",
            "[0.06912237]\n"
          ]
        }
      ]
    },
    {
      "cell_type": "code",
      "source": [
        "%tensorflow_version 2.x  # this line is not required unless you are in a notebook\n",
        "from keras.preprocessing import sequence\n",
        "import keras\n",
        "import tensorflow as tf\n",
        "import os\n",
        "import numpy as np\n"
      ],
      "metadata": {
        "colab": {
          "base_uri": "https://localhost:8080/"
        },
        "id": "Hfkc6i9bjz7b",
        "outputId": "4f1e8165-372e-413c-b1be-b67d009bfd01"
      },
      "execution_count": 4,
      "outputs": [
        {
          "output_type": "stream",
          "name": "stdout",
          "text": [
            "Colab only includes TensorFlow 2.x; %tensorflow_version has no effect.\n"
          ]
        }
      ]
    },
    {
      "cell_type": "code",
      "source": [
        "path_to_file = tf.keras.utils.get_file('shakespeare.txt', 'https://storage.googleapis.com/download.tensorflow.org/data/shakespeare.txt')"
      ],
      "metadata": {
        "colab": {
          "base_uri": "https://localhost:8080/"
        },
        "id": "obdBXRTqjz4l",
        "outputId": "df70bf0e-b56d-4cb0-da54-b8f192d08d56"
      },
      "execution_count": 5,
      "outputs": [
        {
          "output_type": "stream",
          "name": "stdout",
          "text": [
            "Downloading data from https://storage.googleapis.com/download.tensorflow.org/data/shakespeare.txt\n",
            "1115394/1115394 [==============================] - 0s 0us/step\n"
          ]
        }
      ]
    },
    {
      "cell_type": "code",
      "source": [
        "# Read, then decode for py2 compat.\n",
        "text = open(path_to_file, 'rb').read().decode(encoding='utf-8')\n",
        "# length of text is the number of characters in it\n",
        "print ('Length of text: {} characters'.format(len(text)))"
      ],
      "metadata": {
        "colab": {
          "base_uri": "https://localhost:8080/"
        },
        "id": "1YpADlbkjz18",
        "outputId": "d990a659-a247-451c-d509-68af28b9a36e"
      },
      "execution_count": 6,
      "outputs": [
        {
          "output_type": "stream",
          "name": "stdout",
          "text": [
            "Length of text: 1115394 characters\n"
          ]
        }
      ]
    },
    {
      "cell_type": "code",
      "source": [
        "vocab = sorted(set(text))\n",
        "# Creating a mapping from unique characters to indices\n",
        "char2idx = {u:i for i, u in enumerate(vocab)}\n",
        "idx2char = np.array(vocab)\n",
        "\n",
        "def text_to_int(text):\n",
        "  return np.array([char2idx[c] for c in text])\n",
        "\n",
        "text_as_int = text_to_int(text)"
      ],
      "metadata": {
        "id": "8GVV0H2cAzW2"
      },
      "execution_count": 7,
      "outputs": []
    },
    {
      "cell_type": "code",
      "source": [
        "# lets look at how part of our text is encoded\n",
        "print(\"Text:\", text[:13])\n",
        "print(\"Encoded:\", text_to_int(text[:13]))"
      ],
      "metadata": {
        "colab": {
          "base_uri": "https://localhost:8080/"
        },
        "id": "9XxhFTZLAzTX",
        "outputId": "8904a50a-d7c0-47ee-9f02-8a47dcc5fcca"
      },
      "execution_count": 8,
      "outputs": [
        {
          "output_type": "stream",
          "name": "stdout",
          "text": [
            "Text: First Citizen\n",
            "Encoded: [18 47 56 57 58  1 15 47 58 47 64 43 52]\n"
          ]
        }
      ]
    },
    {
      "cell_type": "code",
      "source": [
        "def int_to_text(ints):\n",
        "  try:\n",
        "    ints = ints.numpy()\n",
        "  except:\n",
        "    pass\n",
        "  return ''.join(idx2char[ints])\n",
        "\n",
        "print(int_to_text(text_as_int[:13]))"
      ],
      "metadata": {
        "colab": {
          "base_uri": "https://localhost:8080/"
        },
        "id": "0wclX8JTAzQv",
        "outputId": "e785457f-24fe-4121-d371-a3d3f170812e"
      },
      "execution_count": 9,
      "outputs": [
        {
          "output_type": "stream",
          "name": "stdout",
          "text": [
            "First Citizen\n"
          ]
        }
      ]
    },
    {
      "cell_type": "code",
      "source": [
        "seq_length = 100  # length of sequence for a training example\n",
        "examples_per_epoch = len(text)//(seq_length+1)\n",
        "\n",
        "# Create training examples / targets\n",
        "char_dataset = tf.data.Dataset.from_tensor_slices(text_as_int)"
      ],
      "metadata": {
        "id": "UdDOPSZTBaH7"
      },
      "execution_count": 10,
      "outputs": []
    },
    {
      "cell_type": "code",
      "source": [
        "sequences = char_dataset.batch(seq_length+1, drop_remainder=True)"
      ],
      "metadata": {
        "id": "J-XJo1fHBZ86"
      },
      "execution_count": 11,
      "outputs": []
    },
    {
      "cell_type": "code",
      "source": [
        "def split_input_target(chunk):  # for the example: hello\n",
        "    input_text = chunk[:-1]  # hell\n",
        "    target_text = chunk[1:]  # ello\n",
        "    return input_text, target_text  # hell, ello\n",
        "\n",
        "dataset = sequences.map(split_input_target)  # we use map to apply the above function to every entry"
      ],
      "metadata": {
        "id": "KwYIOlE7BZ5g"
      },
      "execution_count": 12,
      "outputs": []
    },
    {
      "cell_type": "code",
      "source": [
        "for x, y in dataset.take(2):\n",
        "  print(\"\\n\\nEXAMPLE\\n\")\n",
        "  print(\"INPUT\")\n",
        "  print(int_to_text(x))\n",
        "  print(\"\\nOUTPUT\")\n",
        "  print(int_to_text(y))"
      ],
      "metadata": {
        "colab": {
          "base_uri": "https://localhost:8080/"
        },
        "id": "c3f8Y1ytBZ24",
        "outputId": "f1d7360c-00f7-4cbb-ac1f-775512e5ae83"
      },
      "execution_count": 13,
      "outputs": [
        {
          "output_type": "stream",
          "name": "stdout",
          "text": [
            "\n",
            "\n",
            "EXAMPLE\n",
            "\n",
            "INPUT\n",
            "First Citizen:\n",
            "Before we proceed any further, hear me speak.\n",
            "\n",
            "All:\n",
            "Speak, speak.\n",
            "\n",
            "First Citizen:\n",
            "You\n",
            "\n",
            "OUTPUT\n",
            "irst Citizen:\n",
            "Before we proceed any further, hear me speak.\n",
            "\n",
            "All:\n",
            "Speak, speak.\n",
            "\n",
            "First Citizen:\n",
            "You \n",
            "\n",
            "\n",
            "EXAMPLE\n",
            "\n",
            "INPUT\n",
            "are all resolved rather to die than to famish?\n",
            "\n",
            "All:\n",
            "Resolved. resolved.\n",
            "\n",
            "First Citizen:\n",
            "First, you \n",
            "\n",
            "OUTPUT\n",
            "re all resolved rather to die than to famish?\n",
            "\n",
            "All:\n",
            "Resolved. resolved.\n",
            "\n",
            "First Citizen:\n",
            "First, you k\n"
          ]
        }
      ]
    },
    {
      "cell_type": "code",
      "source": [
        "BATCH_SIZE = 64\n",
        "VOCAB_SIZE = len(vocab)  # vocab is number of unique characters\n",
        "EMBEDDING_DIM = 256\n",
        "RNN_UNITS = 1024\n",
        "\n",
        "# Buffer size to shuffle the dataset\n",
        "# (TF data is designed to work with possibly infinite sequences,\n",
        "# so it doesn't attempt to shuffle the entire sequence in memory. Instead,\n",
        "# it maintains a buffer in which it shuffles elements).\n",
        "BUFFER_SIZE = 10000\n",
        "\n",
        "data = dataset.shuffle(BUFFER_SIZE).batch(BATCH_SIZE, drop_remainder=True)\n"
      ],
      "metadata": {
        "id": "wBCCXul6BZ0Q"
      },
      "execution_count": 14,
      "outputs": []
    },
    {
      "cell_type": "code",
      "source": [
        "def build_model(vocab_size, embedding_dim, rnn_units, batch_size):\n",
        "  model = tf.keras.Sequential([\n",
        "    tf.keras.layers.Embedding(vocab_size, embedding_dim,\n",
        "                              batch_input_shape=[batch_size, None]),\n",
        "    tf.keras.layers.LSTM(rnn_units,\n",
        "                        return_sequences=True,\n",
        "                        stateful=True,\n",
        "                        recurrent_initializer='glorot_uniform'),\n",
        "    tf.keras.layers.Dense(vocab_size)\n",
        "  ])\n",
        "  return model\n",
        "\n",
        "model = build_model(VOCAB_SIZE,EMBEDDING_DIM, RNN_UNITS, BATCH_SIZE)"
      ],
      "metadata": {
        "id": "Fn587UH0B0kD"
      },
      "execution_count": 15,
      "outputs": []
    },
    {
      "cell_type": "code",
      "source": [
        "model.summary()"
      ],
      "metadata": {
        "colab": {
          "base_uri": "https://localhost:8080/"
        },
        "id": "guFWPSlDB0gp",
        "outputId": "b399d673-7628-40e4-cf9e-7f7362f4581b"
      },
      "execution_count": 16,
      "outputs": [
        {
          "output_type": "stream",
          "name": "stdout",
          "text": [
            "Model: \"sequential\"\n",
            "_________________________________________________________________\n",
            " Layer (type)                Output Shape              Param #   \n",
            "=================================================================\n",
            " embedding (Embedding)       (64, None, 256)           16640     \n",
            "                                                                 \n",
            " lstm (LSTM)                 (64, None, 1024)          5246976   \n",
            "                                                                 \n",
            " dense (Dense)               (64, None, 65)            66625     \n",
            "                                                                 \n",
            "=================================================================\n",
            "Total params: 5,330,241\n",
            "Trainable params: 5,330,241\n",
            "Non-trainable params: 0\n",
            "_________________________________________________________________\n"
          ]
        }
      ]
    },
    {
      "cell_type": "code",
      "source": [
        "for input_example_batch, target_example_batch in data.take(1):\n",
        "  example_batch_predictions = model(input_example_batch)  # ask our model for a prediction on our first batch of training data (64 entries)\n",
        "  print(example_batch_predictions.shape, \"# (batch_size, sequence_length, vocab_size)\")  # print out the output shape\n"
      ],
      "metadata": {
        "colab": {
          "base_uri": "https://localhost:8080/"
        },
        "id": "awDF3DD0B0eD",
        "outputId": "ad9d8773-288f-4c93-809e-426b8d5135e9"
      },
      "execution_count": 17,
      "outputs": [
        {
          "output_type": "stream",
          "name": "stdout",
          "text": [
            "(64, 100, 65) # (batch_size, sequence_length, vocab_size)\n"
          ]
        }
      ]
    },
    {
      "cell_type": "code",
      "source": [
        "# we can see that the predicition is an array of 64 arrays, one for each entry in the batch\n",
        "print(len(example_batch_predictions))\n",
        "print(example_batch_predictions)"
      ],
      "metadata": {
        "colab": {
          "base_uri": "https://localhost:8080/"
        },
        "id": "nGvb_GXZB0bt",
        "outputId": "35afa0ce-7659-48f8-bfdd-dd11b5d8de3d"
      },
      "execution_count": 18,
      "outputs": [
        {
          "output_type": "stream",
          "name": "stdout",
          "text": [
            "64\n",
            "tf.Tensor(\n",
            "[[[ 2.86610401e-03  5.50812855e-03 -3.59174982e-03 ...  2.98269931e-03\n",
            "    6.39617443e-04 -1.78987521e-03]\n",
            "  [ 3.60678765e-03  1.14278123e-02 -4.83493041e-03 ...  1.63436471e-03\n",
            "   -8.94276891e-04  1.00231078e-03]\n",
            "  [ 2.17794022e-03  2.07265979e-03 -2.10614083e-03 ...  1.90907856e-03\n",
            "   -3.66568333e-03 -2.21192883e-03]\n",
            "  ...\n",
            "  [-2.35428568e-03 -1.10415835e-02  2.57698237e-03 ...  1.24318106e-03\n",
            "   -1.24399932e-02 -3.62505019e-03]\n",
            "  [-1.99280144e-03 -2.64057913e-03  3.44831496e-05 ...  7.37701543e-04\n",
            "   -1.17737558e-02 -1.37724017e-03]\n",
            "  [-2.85488367e-03 -5.59500931e-03  9.52681759e-04 ...  4.43059998e-03\n",
            "   -1.07853124e-02 -4.41329228e-03]]\n",
            "\n",
            " [[-2.23518000e-03 -3.42681934e-03 -1.31590210e-03 ... -5.07069007e-03\n",
            "   -4.35305713e-03  1.34779944e-03]\n",
            "  [ 1.68808317e-03 -5.03776874e-03 -3.94769851e-03 ... -3.82805662e-03\n",
            "   -9.06221278e-04 -3.34067829e-03]\n",
            "  [ 1.14567694e-03 -7.70626729e-03 -5.45693003e-03 ...  8.86197668e-05\n",
            "   -2.84098787e-03  1.75630150e-04]\n",
            "  ...\n",
            "  [ 4.15615970e-03 -2.28594034e-03 -7.35092070e-03 ...  3.43203451e-03\n",
            "   -5.52616501e-03 -9.68720950e-03]\n",
            "  [ 1.58977252e-03 -9.41918790e-03 -3.78457783e-03 ...  4.08129580e-03\n",
            "   -7.60379340e-03 -1.10687632e-02]\n",
            "  [ 2.33688578e-03 -9.95102618e-03 -2.16999045e-03 ...  3.24433087e-03\n",
            "   -8.15815758e-03 -1.03375260e-02]]\n",
            "\n",
            " [[-2.15010718e-03 -3.64008080e-03 -3.69085232e-04 ...  1.44170457e-03\n",
            "   -9.10372910e-05  6.53061550e-03]\n",
            "  [-6.03725296e-03 -3.99139011e-03 -2.43788050e-03 ... -2.01030634e-05\n",
            "    5.23322541e-03  5.13978209e-03]\n",
            "  [-1.15986774e-03  3.17225349e-03 -6.03701174e-03 ...  2.31440691e-03\n",
            "    4.02612798e-03  2.41014850e-03]\n",
            "  ...\n",
            "  [-6.88137487e-03  2.84461258e-03 -1.35672162e-03 ...  7.86927063e-04\n",
            "    5.11697959e-03  4.79821814e-03]\n",
            "  [-3.89592629e-03  6.90488564e-03 -4.14997991e-03 ...  1.89710408e-04\n",
            "    2.11114716e-03  6.15634862e-03]\n",
            "  [-3.75774270e-03 -2.41850503e-04 -5.66243427e-03 ...  2.38326984e-03\n",
            "   -1.22690573e-04  9.90108214e-03]]\n",
            "\n",
            " ...\n",
            "\n",
            " [[-4.61476389e-03  6.27378654e-03 -3.66944494e-03 ...  2.68449239e-03\n",
            "    3.46928043e-03 -3.30701936e-04]\n",
            "  [-8.24886002e-03  9.84688569e-03 -6.01194147e-03 ...  4.78968909e-03\n",
            "    6.10747794e-03 -2.86772149e-04]\n",
            "  [-8.23403988e-03 -1.12213660e-03 -2.79552070e-03 ...  6.57620002e-03\n",
            "    7.24723097e-04  2.15894100e-03]\n",
            "  ...\n",
            "  [ 4.96726832e-04  6.75283559e-03 -1.67860705e-02 ... -5.46096405e-03\n",
            "   -1.06571137e-03 -6.88330550e-03]\n",
            "  [ 2.94903922e-03  3.62147344e-03 -1.47515684e-02 ... -1.73756899e-03\n",
            "   -4.65024821e-03 -1.07782176e-02]\n",
            "  [ 6.04291819e-03 -2.21259193e-04 -1.51219508e-02 ... -3.76069802e-05\n",
            "   -4.89440793e-03 -4.42514801e-03]]\n",
            "\n",
            " [[ 2.20924127e-03 -1.38252287e-03 -1.19814638e-03 ...  3.02497041e-03\n",
            "   -3.30741028e-03 -5.48730511e-03]\n",
            "  [ 3.35820368e-03  4.79287189e-03 -3.44082154e-03 ...  1.68329815e-03\n",
            "   -4.48959181e-03 -1.62637234e-03]\n",
            "  [ 5.36087248e-03  9.02370922e-03 -5.87501423e-03 ...  4.62475605e-03\n",
            "   -2.70274654e-03 -1.77772716e-03]\n",
            "  ...\n",
            "  [-8.39593529e-04  5.89024043e-03 -8.93385150e-03 ...  1.31425029e-03\n",
            "   -4.68168780e-03 -1.71768712e-03]\n",
            "  [-1.42540620e-03  1.65048521e-04 -8.69424362e-03 ...  3.47875571e-03\n",
            "   -5.05508389e-03  2.80889729e-03]\n",
            "  [ 2.91187083e-04 -5.36303315e-03 -9.53108072e-03 ...  2.88350997e-03\n",
            "   -4.48493008e-03  5.57032740e-03]]\n",
            "\n",
            " [[ 2.93301232e-03 -2.47197459e-03 -3.51657346e-03 ... -2.76727893e-04\n",
            "    2.71613384e-03 -3.88008612e-03]\n",
            "  [ 5.11327293e-03  1.50501123e-03  2.00474495e-03 ...  2.69360631e-03\n",
            "   -5.12390584e-03 -7.00630806e-03]\n",
            "  [-4.85895725e-05  7.19689624e-03 -1.88325508e-03 ...  5.01545472e-03\n",
            "    5.79992658e-04 -6.68048207e-03]\n",
            "  ...\n",
            "  [ 4.42350004e-03  2.62655597e-03 -5.06900065e-03 ...  2.29814230e-03\n",
            "   -1.64155359e-03  6.48209825e-03]\n",
            "  [ 2.50089495e-03 -5.51278237e-03 -2.95148371e-03 ...  2.11763638e-03\n",
            "   -4.43955138e-03  8.00911337e-04]\n",
            "  [ 2.96562421e-03  1.74861890e-03 -5.16336691e-03 ...  8.47274205e-04\n",
            "   -4.11851984e-03  1.86087331e-03]]], shape=(64, 100, 65), dtype=float32)\n"
          ]
        }
      ]
    },
    {
      "cell_type": "code",
      "source": [
        "# lets examine one prediction\n",
        "pred = example_batch_predictions[0]\n",
        "print(len(pred))\n",
        "print(pred)\n",
        "# notice this is a 2d array of length 100, where each interior array is the prediction for the next character at each time step"
      ],
      "metadata": {
        "colab": {
          "base_uri": "https://localhost:8080/"
        },
        "id": "9CtVdv1nB0Y-",
        "outputId": "cabff50f-52a9-4cc8-e088-7e8b096acf00"
      },
      "execution_count": 19,
      "outputs": [
        {
          "output_type": "stream",
          "name": "stdout",
          "text": [
            "100\n",
            "tf.Tensor(\n",
            "[[ 2.86610401e-03  5.50812855e-03 -3.59174982e-03 ...  2.98269931e-03\n",
            "   6.39617443e-04 -1.78987521e-03]\n",
            " [ 3.60678765e-03  1.14278123e-02 -4.83493041e-03 ...  1.63436471e-03\n",
            "  -8.94276891e-04  1.00231078e-03]\n",
            " [ 2.17794022e-03  2.07265979e-03 -2.10614083e-03 ...  1.90907856e-03\n",
            "  -3.66568333e-03 -2.21192883e-03]\n",
            " ...\n",
            " [-2.35428568e-03 -1.10415835e-02  2.57698237e-03 ...  1.24318106e-03\n",
            "  -1.24399932e-02 -3.62505019e-03]\n",
            " [-1.99280144e-03 -2.64057913e-03  3.44831496e-05 ...  7.37701543e-04\n",
            "  -1.17737558e-02 -1.37724017e-03]\n",
            " [-2.85488367e-03 -5.59500931e-03  9.52681759e-04 ...  4.43059998e-03\n",
            "  -1.07853124e-02 -4.41329228e-03]], shape=(100, 65), dtype=float32)\n"
          ]
        }
      ]
    },
    {
      "cell_type": "code",
      "source": [
        "# and finally well look at a prediction at the first timestep\n",
        "time_pred = pred[0]\n",
        "print(len(time_pred))\n",
        "print(time_pred)\n",
        "# and of course its 65 values representing the probabillity of each character occuring next"
      ],
      "metadata": {
        "colab": {
          "base_uri": "https://localhost:8080/"
        },
        "id": "v8YvV6lUCYIA",
        "outputId": "669c2d99-934c-4807-fc3b-09bd09d637c5"
      },
      "execution_count": 20,
      "outputs": [
        {
          "output_type": "stream",
          "name": "stdout",
          "text": [
            "65\n",
            "tf.Tensor(\n",
            "[ 2.8661040e-03  5.5081286e-03 -3.5917498e-03 -1.0460000e-03\n",
            " -1.1380813e-03 -2.5581652e-03 -3.8364897e-03  7.0346883e-03\n",
            " -1.9611474e-03  4.4729020e-03  9.9550374e-04  9.5490227e-04\n",
            "  1.1071875e-03 -2.0030420e-06 -6.5986617e-03 -1.1558505e-04\n",
            "  1.2493064e-03  1.5981945e-03  3.7845650e-03 -1.3216598e-03\n",
            "  1.8117446e-03  2.7654597e-03 -5.8314862e-04  7.4320766e-03\n",
            "  1.9912401e-03  1.4499672e-03 -2.1413712e-04  3.2850760e-03\n",
            "  2.5340442e-03  2.9286833e-03  3.1068835e-03 -7.2207837e-04\n",
            "  1.7268541e-03 -5.4330034e-03 -1.7064145e-03 -5.5773556e-04\n",
            "  5.5389712e-05  4.6459995e-03  2.5846569e-03 -3.0900729e-03\n",
            " -9.9405670e-04 -3.0502675e-03  2.6099323e-03 -3.7154639e-03\n",
            " -1.3916334e-03 -1.0020536e-03 -2.7810462e-04 -6.7022964e-03\n",
            " -3.6176560e-03 -3.8798474e-04  9.8386244e-04 -8.7019172e-04\n",
            "  2.8247340e-04 -5.7175383e-03  2.1073484e-04 -1.4152856e-03\n",
            "  7.7238132e-04 -2.2209201e-03 -3.4008224e-03 -4.2615477e-03\n",
            "  1.9165769e-03 -2.7903188e-03  2.9826993e-03  6.3961744e-04\n",
            " -1.7898752e-03], shape=(65,), dtype=float32)\n"
          ]
        }
      ]
    },
    {
      "cell_type": "code",
      "source": [
        "# If we want to determine the predicted character we need to sample the output distribution (pick a value based on probabillity)\n",
        "sampled_indices = tf.random.categorical(pred, num_samples=1)\n",
        "\n",
        "# now we can reshape that array and convert all the integers to numbers to see the actual characters\n",
        "sampled_indices = np.reshape(sampled_indices, (1, -1))[0]\n",
        "predicted_chars = int_to_text(sampled_indices)\n",
        "\n",
        "predicted_chars  # and this is what the model predicted for training sequence 1"
      ],
      "metadata": {
        "colab": {
          "base_uri": "https://localhost:8080/",
          "height": 36
        },
        "id": "L8mvZSBJCYEc",
        "outputId": "47cc9278-9d33-4a68-c289-fe3e675913b7"
      },
      "execution_count": 21,
      "outputs": [
        {
          "output_type": "execute_result",
          "data": {
            "text/plain": [
              "\"mYPAxmH3&wjVOjY:TN:sdF3tzcLVFX33JyzCh!EsGZlOPpM:y3!;Uo\\nzo$:Emx!TCa J :\\nqXcq'rdrcQQyTAJEH;rAlc?m'V'C'\""
            ],
            "application/vnd.google.colaboratory.intrinsic+json": {
              "type": "string"
            }
          },
          "metadata": {},
          "execution_count": 21
        }
      ]
    },
    {
      "cell_type": "code",
      "source": [
        "def loss(labels, logits):\n",
        "  return tf.keras.losses.sparse_categorical_crossentropy(labels, logits, from_logits=True)"
      ],
      "metadata": {
        "id": "TL8-kKrACYCB"
      },
      "execution_count": 22,
      "outputs": []
    },
    {
      "cell_type": "code",
      "source": [
        "model.compile(optimizer='adam', loss=loss)"
      ],
      "metadata": {
        "id": "Tr010O8sCX_R"
      },
      "execution_count": 23,
      "outputs": []
    },
    {
      "cell_type": "code",
      "source": [
        "# Directory where the checkpoints will be saved\n",
        "checkpoint_dir = './training_checkpoints'\n",
        "# Name of the checkpoint files\n",
        "checkpoint_prefix = os.path.join(checkpoint_dir, \"ckpt_{epoch}\")\n",
        "\n",
        "checkpoint_callback=tf.keras.callbacks.ModelCheckpoint(\n",
        "    filepath=checkpoint_prefix,\n",
        "    save_weights_only=True)"
      ],
      "metadata": {
        "id": "776XVrUkCrl6"
      },
      "execution_count": 24,
      "outputs": []
    },
    {
      "cell_type": "code",
      "source": [
        "history = model.fit(data, epochs=50, callbacks=[checkpoint_callback])"
      ],
      "metadata": {
        "colab": {
          "base_uri": "https://localhost:8080/"
        },
        "id": "zArWcG32Cria",
        "outputId": "38f7ac3f-e159-476e-9636-b7a43940b85f"
      },
      "execution_count": 25,
      "outputs": [
        {
          "output_type": "stream",
          "name": "stdout",
          "text": [
            "Epoch 1/50\n",
            "172/172 [==============================] - 17s 70ms/step - loss: 2.6086\n",
            "Epoch 2/50\n",
            "172/172 [==============================] - 13s 67ms/step - loss: 1.9066\n",
            "Epoch 3/50\n",
            "172/172 [==============================] - 13s 67ms/step - loss: 1.6548\n",
            "Epoch 4/50\n",
            "172/172 [==============================] - 14s 69ms/step - loss: 1.5174\n",
            "Epoch 5/50\n",
            "172/172 [==============================] - 14s 70ms/step - loss: 1.4333\n",
            "Epoch 6/50\n",
            "172/172 [==============================] - 15s 72ms/step - loss: 1.3761\n",
            "Epoch 7/50\n",
            "172/172 [==============================] - 15s 74ms/step - loss: 1.3299\n",
            "Epoch 8/50\n",
            "172/172 [==============================] - 15s 76ms/step - loss: 1.2926\n",
            "Epoch 9/50\n",
            "172/172 [==============================] - 15s 73ms/step - loss: 1.2569\n",
            "Epoch 10/50\n",
            "172/172 [==============================] - 15s 74ms/step - loss: 1.2224\n",
            "Epoch 11/50\n",
            "172/172 [==============================] - 14s 74ms/step - loss: 1.1881\n",
            "Epoch 12/50\n",
            "172/172 [==============================] - 14s 73ms/step - loss: 1.1534\n",
            "Epoch 13/50\n",
            "172/172 [==============================] - 15s 76ms/step - loss: 1.1173\n",
            "Epoch 14/50\n",
            "172/172 [==============================] - 15s 75ms/step - loss: 1.0806\n",
            "Epoch 15/50\n",
            "172/172 [==============================] - 15s 74ms/step - loss: 1.0417\n",
            "Epoch 16/50\n",
            "172/172 [==============================] - 14s 72ms/step - loss: 1.0012\n",
            "Epoch 17/50\n",
            "172/172 [==============================] - 15s 74ms/step - loss: 0.9612\n",
            "Epoch 18/50\n",
            "172/172 [==============================] - 15s 77ms/step - loss: 0.9205\n",
            "Epoch 19/50\n",
            "172/172 [==============================] - 15s 75ms/step - loss: 0.8815\n",
            "Epoch 20/50\n",
            "172/172 [==============================] - 15s 74ms/step - loss: 0.8428\n",
            "Epoch 21/50\n",
            "172/172 [==============================] - 14s 72ms/step - loss: 0.8069\n",
            "Epoch 22/50\n",
            "172/172 [==============================] - 15s 75ms/step - loss: 0.7703\n",
            "Epoch 23/50\n",
            "172/172 [==============================] - 15s 77ms/step - loss: 0.7374\n",
            "Epoch 24/50\n",
            "172/172 [==============================] - 15s 75ms/step - loss: 0.7065\n",
            "Epoch 25/50\n",
            "172/172 [==============================] - 15s 73ms/step - loss: 0.6786\n",
            "Epoch 26/50\n",
            "172/172 [==============================] - 14s 73ms/step - loss: 0.6527\n",
            "Epoch 27/50\n",
            "172/172 [==============================] - 14s 73ms/step - loss: 0.6304\n",
            "Epoch 28/50\n",
            "172/172 [==============================] - 15s 74ms/step - loss: 0.6087\n",
            "Epoch 29/50\n",
            "172/172 [==============================] - 15s 76ms/step - loss: 0.5895\n",
            "Epoch 30/50\n",
            "172/172 [==============================] - 15s 75ms/step - loss: 0.5734\n",
            "Epoch 31/50\n",
            "172/172 [==============================] - 15s 74ms/step - loss: 0.5584\n",
            "Epoch 32/50\n",
            "172/172 [==============================] - 15s 74ms/step - loss: 0.5425\n",
            "Epoch 33/50\n",
            "172/172 [==============================] - 14s 74ms/step - loss: 0.5286\n",
            "Epoch 34/50\n",
            "172/172 [==============================] - 15s 74ms/step - loss: 0.5168\n",
            "Epoch 35/50\n",
            "172/172 [==============================] - 15s 75ms/step - loss: 0.5078\n",
            "Epoch 36/50\n",
            "172/172 [==============================] - 14s 73ms/step - loss: 0.4989\n",
            "Epoch 37/50\n",
            "172/172 [==============================] - 15s 76ms/step - loss: 0.4912\n",
            "Epoch 38/50\n",
            "172/172 [==============================] - 15s 75ms/step - loss: 0.4807\n",
            "Epoch 39/50\n",
            "172/172 [==============================] - 15s 75ms/step - loss: 0.4729\n",
            "Epoch 40/50\n",
            "172/172 [==============================] - 16s 74ms/step - loss: 0.4689\n",
            "Epoch 41/50\n",
            "172/172 [==============================] - 15s 74ms/step - loss: 0.4628\n",
            "Epoch 42/50\n",
            "172/172 [==============================] - 15s 75ms/step - loss: 0.4556\n",
            "Epoch 43/50\n",
            "172/172 [==============================] - 14s 73ms/step - loss: 0.4501\n",
            "Epoch 44/50\n",
            "172/172 [==============================] - 15s 75ms/step - loss: 0.4482\n",
            "Epoch 45/50\n",
            "172/172 [==============================] - 14s 74ms/step - loss: 0.4422\n",
            "Epoch 46/50\n",
            "172/172 [==============================] - 15s 74ms/step - loss: 0.4398\n",
            "Epoch 47/50\n",
            "172/172 [==============================] - 15s 76ms/step - loss: 0.4358\n",
            "Epoch 48/50\n",
            "172/172 [==============================] - 15s 75ms/step - loss: 0.4351\n",
            "Epoch 49/50\n",
            "172/172 [==============================] - 14s 72ms/step - loss: 0.4319\n",
            "Epoch 50/50\n",
            "172/172 [==============================] - 15s 74ms/step - loss: 0.4261\n"
          ]
        }
      ]
    },
    {
      "cell_type": "code",
      "source": [
        "model = build_model(VOCAB_SIZE, EMBEDDING_DIM, RNN_UNITS, batch_size=1)"
      ],
      "metadata": {
        "id": "PEEMuL-MCrgO"
      },
      "execution_count": 26,
      "outputs": []
    },
    {
      "cell_type": "code",
      "source": [
        "latest = tf.train.latest_checkpoint(checkpoint_dir)\n",
        "\n",
        "latest\n",
        "\n",
        "model.load_weights(latest)"
      ],
      "metadata": {
        "colab": {
          "base_uri": "https://localhost:8080/"
        },
        "id": "bDsu22DBQt9Z",
        "outputId": "efbf5598-b529-489c-dbfc-817b07841b76"
      },
      "execution_count": 29,
      "outputs": [
        {
          "output_type": "execute_result",
          "data": {
            "text/plain": [
              "<tensorflow.python.checkpoint.checkpoint.CheckpointLoadStatus at 0x7f23d5650160>"
            ]
          },
          "metadata": {},
          "execution_count": 29
        }
      ]
    },
    {
      "cell_type": "code",
      "source": [
        "#model.load_weights(tf.train.latest_checkpoint(checkpoint_dir))\n",
        "model.build(tf.TensorShape([1, None]))"
      ],
      "metadata": {
        "id": "kIuaLScgCrdd"
      },
      "execution_count": 30,
      "outputs": []
    },
    {
      "cell_type": "code",
      "source": [],
      "metadata": {
        "id": "0l3KjBSkB0WL"
      },
      "execution_count": 31,
      "outputs": []
    },
    {
      "cell_type": "code",
      "source": [
        "def generate_text(model, start_string):\n",
        "  # Evaluation step (generating text using the learned model)\n",
        "\n",
        "  # Number of characters to generate\n",
        "  num_generate = 800\n",
        "\n",
        "  # Converting our start string to numbers (vectorizing)\n",
        "  input_eval = [char2idx[s] for s in start_string]\n",
        "  input_eval = tf.expand_dims(input_eval, 0)\n",
        "\n",
        "  # Empty string to store our results\n",
        "  text_generated = []\n",
        "\n",
        "  # Low temperatures results in more predictable text.\n",
        "  # Higher temperatures results in more surprising text.\n",
        "  # Experiment to find the best setting.\n",
        "  temperature = 1.0\n",
        "\n",
        "  # Here batch size == 1\n",
        "  model.reset_states()\n",
        "  for i in range(num_generate):\n",
        "      predictions = model(input_eval)\n",
        "      # remove the batch dimension\n",
        "\n",
        "      predictions = tf.squeeze(predictions, 0)\n",
        "\n",
        "      # using a categorical distribution to predict the character returned by the model\n",
        "      predictions = predictions / temperature\n",
        "      predicted_id = tf.random.categorical(predictions, num_samples=1)[-1,0].numpy()\n",
        "\n",
        "      # We pass the predicted character as the next input to the model\n",
        "      # along with the previous hidden state\n",
        "      input_eval = tf.expand_dims([predicted_id], 0)\n",
        "\n",
        "      text_generated.append(idx2char[predicted_id])\n",
        "\n",
        "  return (start_string + ''.join(text_generated))"
      ],
      "metadata": {
        "id": "vnYx5WH1B0Tb"
      },
      "execution_count": 31,
      "outputs": []
    },
    {
      "cell_type": "code",
      "source": [
        "inp = input(\"Type a starting string: \")\n",
        "print(generate_text(model, inp))"
      ],
      "metadata": {
        "colab": {
          "base_uri": "https://localhost:8080/"
        },
        "id": "5chEZ9KjB0Q5",
        "outputId": "67e82fb2-c41f-49d4-8b45-02acf3b019b1"
      },
      "execution_count": 32,
      "outputs": [
        {
          "output_type": "stream",
          "name": "stdout",
          "text": [
            "Type a starting string: sai\n",
            "said you and yours! why,\n",
            "may I channe t now,\n",
            "Unless they see them suggest, as I hear, must\n",
            "report to your promise, yirst his tongue.\n",
            "\n",
            "QUEEN MARGARET:\n",
            "For every man within!\n",
            "Sirs, that I may surely keep mine oath,\n",
            "That made your majesty know our state to bear,\n",
            "Making them women give me leave awhat shame struckingham else\n",
            "But once against George your honour.\n",
            "\n",
            "WARWICK:\n",
            "Then Clarence is the post things not in every cas,\n",
            "And tell him private content myself,\n",
            "tangs.\n",
            "\n",
            "First Servingman:\n",
            "Nay, it's no matter, sir.\n",
            "\n",
            "HASTINGS:\n",
            "O monstrous beast that will not frame\n",
            "e careful mother, knowing\n",
            "The charges of the house of Signior Lucentio.\n",
            "\n",
            "TRANIO:\n",
            "Has he doth aim our lances are bequitles;\n",
            "For one to take some conferent exile should bring this match?\n",
            "\n",
            "Gaoler:\n",
            "For now your love pursues not for them that foul deg\n"
          ]
        }
      ]
    },
    {
      "cell_type": "code",
      "source": [],
      "metadata": {
        "id": "sMQJKJYJB0OC"
      },
      "execution_count": null,
      "outputs": []
    }
  ],
  "metadata": {
    "colab": {
      "name": "Welcome To Colaboratory",
      "provenance": [],
      "gpuType": "T4",
      "include_colab_link": true
    },
    "kernelspec": {
      "display_name": "Python 3",
      "name": "python3"
    },
    "accelerator": "GPU"
  },
  "nbformat": 4,
  "nbformat_minor": 0
}